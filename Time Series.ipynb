{
 "cells": [
  {
   "cell_type": "markdown",
   "id": "1af4863a",
   "metadata": {},
   "source": [
    "# Time Series:\n",
    "Timestamp:\n",
    "\n",
    "Time interval and period:\n",
    "\n",
    "Time detail:\n"
   ]
  },
  {
   "cell_type": "code",
   "execution_count": 2,
   "id": "0bc5a78d",
   "metadata": {},
   "outputs": [
    {
     "data": {
      "text/plain": [
       "datetime.datetime(2024, 3, 30, 0, 0)"
      ]
     },
     "execution_count": 2,
     "metadata": {},
     "output_type": "execute_result"
    }
   ],
   "source": [
    "from datetime import datetime\n",
    "\n",
    "#datetime?\n",
    "\n",
    "datetime(year=2024,month=4,day=2)\n",
    "datetime(2024,3,30)"
   ]
  },
  {
   "cell_type": "code",
   "execution_count": 3,
   "id": "3c13724d",
   "metadata": {},
   "outputs": [
    {
     "data": {
      "text/plain": [
       "datetime.datetime(2021, 1, 31, 0, 0)"
      ]
     },
     "execution_count": 3,
     "metadata": {},
     "output_type": "execute_result"
    }
   ],
   "source": [
    "from dateutil import parser\n",
    "date=parser.parse(\"jan 31th 2021\")\n",
    "date\n"
   ]
  },
  {
   "cell_type": "code",
   "execution_count": 4,
   "id": "7f7addcb",
   "metadata": {},
   "outputs": [
    {
     "data": {
      "text/plain": [
       "'Sunday'"
      ]
     },
     "execution_count": 4,
     "metadata": {},
     "output_type": "execute_result"
    }
   ],
   "source": [
    "date.strftime('%A')"
   ]
  },
  {
   "cell_type": "code",
   "execution_count": 5,
   "id": "6b70c62c",
   "metadata": {},
   "outputs": [
    {
     "data": {
      "text/plain": [
       "'January'"
      ]
     },
     "execution_count": 5,
     "metadata": {},
     "output_type": "execute_result"
    }
   ],
   "source": [
    "date.strftime('%B')"
   ]
  },
  {
   "cell_type": "code",
   "execution_count": 6,
   "id": "43176141",
   "metadata": {},
   "outputs": [
    {
     "data": {
      "text/plain": [
       "'20'"
      ]
     },
     "execution_count": 6,
     "metadata": {},
     "output_type": "execute_result"
    }
   ],
   "source": [
    "date.strftime('%C')"
   ]
  },
  {
   "cell_type": "code",
   "execution_count": 7,
   "id": "af927379",
   "metadata": {},
   "outputs": [
    {
     "data": {
      "text/plain": [
       "'01/31/21'"
      ]
     },
     "execution_count": 7,
     "metadata": {},
     "output_type": "execute_result"
    }
   ],
   "source": [
    "date.strftime('%D')"
   ]
  },
  {
   "cell_type": "code",
   "execution_count": 8,
   "id": "fb511692",
   "metadata": {},
   "outputs": [
    {
     "data": {
      "text/plain": [
       "'E'"
      ]
     },
     "execution_count": 8,
     "metadata": {},
     "output_type": "execute_result"
    }
   ],
   "source": [
    "date.strftime('%E')"
   ]
  },
  {
   "cell_type": "code",
   "execution_count": 9,
   "id": "5eefba8f",
   "metadata": {},
   "outputs": [
    {
     "data": {
      "text/plain": [
       "array('2021-07-04', dtype='datetime64[D]')"
      ]
     },
     "execution_count": 9,
     "metadata": {},
     "output_type": "execute_result"
    }
   ],
   "source": [
    "import numpy as np\n",
    "date= np.array('2021-07-04',dtype=np.datetime64)\n",
    "date"
   ]
  },
  {
   "cell_type": "code",
   "execution_count": 10,
   "id": "24cac498",
   "metadata": {},
   "outputs": [
    {
     "data": {
      "text/plain": [
       "array(['2021-07-04', '2021-07-05', '2021-07-06', '2021-07-07',\n",
       "       '2021-07-08', '2021-07-09', '2021-07-10', '2021-07-11',\n",
       "       '2021-07-12', '2021-07-13', '2021-07-14', '2021-07-15'],\n",
       "      dtype='datetime64[D]')"
      ]
     },
     "execution_count": 10,
     "metadata": {},
     "output_type": "execute_result"
    }
   ],
   "source": [
    "date + np.arange(12)"
   ]
  },
  {
   "cell_type": "code",
   "execution_count": 11,
   "id": "a9d79b19",
   "metadata": {},
   "outputs": [
    {
     "data": {
      "text/plain": [
       "numpy.datetime64('2021-07-04')"
      ]
     },
     "execution_count": 11,
     "metadata": {},
     "output_type": "execute_result"
    }
   ],
   "source": [
    "#np.datetime64?\n",
    "np.datetime64('2021-07-04')"
   ]
  },
  {
   "cell_type": "code",
   "execution_count": 12,
   "id": "7d0b7918",
   "metadata": {},
   "outputs": [
    {
     "data": {
      "text/plain": [
       "numpy.datetime64('2021-07-04T12:00')"
      ]
     },
     "execution_count": 12,
     "metadata": {},
     "output_type": "execute_result"
    }
   ],
   "source": [
    "np.datetime64('2021-07-04 12:00')"
   ]
  },
  {
   "cell_type": "code",
   "execution_count": 13,
   "id": "f05295e0",
   "metadata": {},
   "outputs": [
    {
     "data": {
      "text/plain": [
       "numpy.datetime64('2021-07-04T12:59:30.500')"
      ]
     },
     "execution_count": 13,
     "metadata": {},
     "output_type": "execute_result"
    }
   ],
   "source": [
    "np.datetime64('2021-07-04 12:59:30.50')"
   ]
  },
  {
   "cell_type": "code",
   "execution_count": 14,
   "id": "36f4334d",
   "metadata": {},
   "outputs": [
    {
     "data": {
      "text/plain": [
       "Timestamp('2021-01-31 00:00:00')"
      ]
     },
     "execution_count": 14,
     "metadata": {},
     "output_type": "execute_result"
    }
   ],
   "source": [
    "#It is better than both:\n",
    "#pd.to_datetime??\n",
    "import pandas as pd\n",
    "date=pd.to_datetime(\"jan 31th 2021\")\n",
    "date"
   ]
  },
  {
   "cell_type": "code",
   "execution_count": 15,
   "id": "b0ea02d3",
   "metadata": {},
   "outputs": [
    {
     "data": {
      "text/plain": [
       "'Sun Jan 31 00:00:00 2021'"
      ]
     },
     "execution_count": 15,
     "metadata": {},
     "output_type": "execute_result"
    }
   ],
   "source": [
    "date.strftime('%c')"
   ]
  },
  {
   "cell_type": "code",
   "execution_count": 16,
   "id": "e4b8ca17",
   "metadata": {},
   "outputs": [
    {
     "data": {
      "text/plain": [
       "DatetimeIndex(['2021-01-31', '2021-02-01', '2021-02-02', '2021-02-03',\n",
       "               '2021-02-04', '2021-02-05', '2021-02-06', '2021-02-07',\n",
       "               '2021-02-08', '2021-02-09', '2021-02-10', '2021-02-11'],\n",
       "              dtype='datetime64[ns]', freq=None)"
      ]
     },
     "execution_count": 16,
     "metadata": {},
     "output_type": "execute_result"
    }
   ],
   "source": [
    "date + pd.to_timedelta(np.arange(12),'D')"
   ]
  },
  {
   "cell_type": "code",
   "execution_count": 17,
   "id": "7749d6ec",
   "metadata": {},
   "outputs": [
    {
     "data": {
      "text/plain": [
       "DatetimeIndex(['2021-01-31', '2021-02-07', '2021-02-14', '2021-02-21',\n",
       "               '2021-02-28', '2021-03-07', '2021-03-14', '2021-03-21',\n",
       "               '2021-03-28', '2021-04-04', '2021-04-11', '2021-04-18'],\n",
       "              dtype='datetime64[ns]', freq=None)"
      ]
     },
     "execution_count": 17,
     "metadata": {},
     "output_type": "execute_result"
    }
   ],
   "source": [
    "date + pd.to_timedelta(np.arange(12),'W')"
   ]
  },
  {
   "cell_type": "code",
   "execution_count": 18,
   "id": "6666e79d",
   "metadata": {},
   "outputs": [
    {
     "data": {
      "text/plain": [
       "DatetimeIndex(['2021-01-31 00:00:00', '2021-01-31 01:00:00',\n",
       "               '2021-01-31 02:00:00', '2021-01-31 03:00:00',\n",
       "               '2021-01-31 04:00:00', '2021-01-31 05:00:00',\n",
       "               '2021-01-31 06:00:00', '2021-01-31 07:00:00',\n",
       "               '2021-01-31 08:00:00', '2021-01-31 09:00:00',\n",
       "               '2021-01-31 10:00:00', '2021-01-31 11:00:00'],\n",
       "              dtype='datetime64[ns]', freq=None)"
      ]
     },
     "execution_count": 18,
     "metadata": {},
     "output_type": "execute_result"
    }
   ],
   "source": [
    "date + pd.to_timedelta(np.arange(12),'h')"
   ]
  },
  {
   "cell_type": "code",
   "execution_count": 19,
   "id": "d74421b5",
   "metadata": {},
   "outputs": [
    {
     "data": {
      "text/plain": [
       "2020-07-04    0\n",
       "2020-08-04    1\n",
       "2021-08-04    2\n",
       "2021-08-04    3\n",
       "dtype: int64"
      ]
     },
     "execution_count": 19,
     "metadata": {},
     "output_type": "execute_result"
    }
   ],
   "source": [
    "index=pd.DatetimeIndex(['2020-07-04','2020-08-04','2021-08-04','2021-08-04'])\n",
    "date= pd.Series([0,1,2,3],index=index)\n",
    "date"
   ]
  },
  {
   "cell_type": "code",
   "execution_count": 20,
   "id": "cd8dadd7",
   "metadata": {},
   "outputs": [
    {
     "data": {
      "text/plain": [
       "2020-07-04    0\n",
       "2020-08-04    1\n",
       "2021-08-04    2\n",
       "2021-08-04    3\n",
       "dtype: int64"
      ]
     },
     "execution_count": 20,
     "metadata": {},
     "output_type": "execute_result"
    }
   ],
   "source": [
    "date['2020-01-04':'2021-12-04']"
   ]
  },
  {
   "cell_type": "code",
   "execution_count": 21,
   "id": "38e76e8b",
   "metadata": {},
   "outputs": [
    {
     "data": {
      "text/plain": [
       "DatetimeIndex([], dtype='datetime64[ns]', freq='D')"
      ]
     },
     "execution_count": 21,
     "metadata": {},
     "output_type": "execute_result"
    }
   ],
   "source": [
    "pd.date_range('2021-07-04','2021-05-05')"
   ]
  },
  {
   "cell_type": "code",
   "execution_count": 22,
   "id": "8c9301f1",
   "metadata": {},
   "outputs": [
    {
     "data": {
      "text/plain": [
       "2021-08-04    2\n",
       "2021-08-04    3\n",
       "dtype: int64"
      ]
     },
     "execution_count": 22,
     "metadata": {},
     "output_type": "execute_result"
    }
   ],
   "source": [
    "date['2021']"
   ]
  },
  {
   "cell_type": "code",
   "execution_count": 23,
   "id": "437af007",
   "metadata": {},
   "outputs": [
    {
     "data": {
      "text/plain": [
       "2020-07-04    0\n",
       "2020-08-04    1\n",
       "2021-08-04    2\n",
       "2021-08-04    3\n",
       "Freq: D, dtype: int64"
      ]
     },
     "execution_count": 23,
     "metadata": {},
     "output_type": "execute_result"
    }
   ],
   "source": [
    "date.to_period('D')"
   ]
  },
  {
   "cell_type": "code",
   "execution_count": 24,
   "id": "9a6fe5f9",
   "metadata": {},
   "outputs": [
    {
     "data": {
      "text/plain": [
       "DatetimeIndex(['2015-07-03 00:00:00', '2015-07-03 01:00:00',\n",
       "               '2015-07-03 02:00:00', '2015-07-03 03:00:00',\n",
       "               '2015-07-03 04:00:00', '2015-07-03 05:00:00',\n",
       "               '2015-07-03 06:00:00', '2015-07-03 07:00:00'],\n",
       "              dtype='datetime64[ns]', freq='H')"
      ]
     },
     "execution_count": 24,
     "metadata": {},
     "output_type": "execute_result"
    }
   ],
   "source": [
    "pd.date_range('2015-07-03',periods=8,freq='H')"
   ]
  },
  {
   "cell_type": "code",
   "execution_count": null,
   "id": "9049079c",
   "metadata": {},
   "outputs": [],
   "source": []
  }
 ],
 "metadata": {
  "kernelspec": {
   "display_name": "Python 3 (ipykernel)",
   "language": "python",
   "name": "python3"
  },
  "language_info": {
   "codemirror_mode": {
    "name": "ipython",
    "version": 3
   },
   "file_extension": ".py",
   "mimetype": "text/x-python",
   "name": "python",
   "nbconvert_exporter": "python",
   "pygments_lexer": "ipython3",
   "version": "3.11.5"
  }
 },
 "nbformat": 4,
 "nbformat_minor": 5
}
